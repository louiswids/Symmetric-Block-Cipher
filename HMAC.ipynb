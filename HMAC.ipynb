{
 "cells": [
  {
   "cell_type": "markdown",
   "metadata": {},
   "source": [
    "# Hash and HMAC\n",
    "- Fathi Al Adha Hylmi\n",
    "- Louis Widi Anandaputra\n",
    "\n",
    "**Overview**\n",
    "<br>\n",
    "The hash would use keyed Bitwise-Rotated Exclusive OR methods. Meaning, the first block would be produced by a key. Meanwhile, the HMAC would use the Bitwise-Rotated Exclusive OR for both the inner hash and outer hash\n",
    "\n",
    "**Method for finding the same values**\n",
    "<br>\n",
    "In finding two data which would provide the same values for Hash and HMAC value, we would take into account the type of hash function we will be using in this work. We are using the bitwise rotated exclusive OR (XOR) operations and it basically is an iterative method done on all of the data that are splitted into blocks. \n",
    "\n",
    "- It would take the **inner** key and initial value to be XORed to create the first block.\n",
    "- The first block would then be rotated left-wise one step and XORed with the next block. This step is iterated until the last block is XORed\n",
    "- The result from XOR-ing the last block would be the inner hash value\n",
    "\n",
    "In the next step, an outer hash value is produced to a similar method. \n",
    "- It would take the inner key and **outer** value to be XORed to create the first block.\n",
    "- The first block would then be rotated left-wise one step and XORed with the **inner hash value**. \n",
    "- The result from XOR-ing would be the outer hash value\n",
    "\n",
    "\n",
    "Working from this intuition, to first find the hash value, the bitwise rotated XOR is basically rotating the current block to be XORed with the next block. The value of the key would not be important in two data as it is XORed with the initial value to create the first block. From here, if the current block is XORed with 0 as the next block's value, it would still be the same value. Therefore, if the current block is rotated *n* times, with *n* being the bit length for a block alongside having it XORed with 0 to stay the same value, it would produce the same value with smaller data that is not being XORed with 0 or rotated.\n",
    "\n",
    "In this example, we will explore the use a maximum of 8 bit representation of a block. We have two values:\n",
    "- 11 (2 blocks)\n",
    "- 1100000000 (10 blocks) --> having 8 zeroes\n",
    "As the hash value of **11** is **00110100**, the hash value of **1100000000** is also **00110100**. This is because 01001010 is being rotated 8 times while being XORed with 0 along the way for the second data  as the next blocks only consist of 0\n",
    "\n",
    "Acting on the first evidence,to produce the result on the HMAC value, same inner hash result is needed. Therefore, we can use the same strategy for the HMAC. By using blocks with the length of 16 bits, we have two data:\n",
    "- 1111(4 blocks)\n",
    "- 11110000000000000000 (16 blocks)\n",
    "The two data provided HMAC of **01000111010011001** and since the key (outer key) and initial value used on HMAC of the two data, it provide the same results, added by the same inner hash value of **0000111110111011**. Therefore, we acquired two data that provide the same Hash and HMAC using the same strategy."
   ]
  },
  {
   "cell_type": "markdown",
   "metadata": {},
   "source": [
    "## Defining Functions"
   ]
  },
  {
   "cell_type": "code",
   "execution_count": 1,
   "metadata": {},
   "outputs": [],
   "source": [
    "from os import urandom\n",
    "\n",
    "# Initial key generator\n",
    "def initialGenKey(length):\n",
    "    return bytearray(urandom(length))\n",
    "\n",
    "def breakMessage(message, len_of_blocks):\n",
    "    if isinstance(message, str):\n",
    "        message = message.encode()\n",
    "    list_of_blocks = []\n",
    "    for i in range(0, len(message), len_of_blocks):\n",
    "        block = message[i:i + len_of_blocks]\n",
    "        if len(block) == len_of_blocks:\n",
    "            list_of_blocks.append(block)\n",
    "        else:\n",
    "            c = len_of_blocks - len(block)\n",
    "            block += b' ' * c\n",
    "            list_of_blocks.append(block)\n",
    "    return list_of_blocks\n",
    "    \n",
    "\n",
    "def bitwise_rotate_left(val, r_bits, max_bits): \n",
    "    \"\"\"\n",
    "    val : value to be rotated\n",
    "    r_bits = number of rotation step\n",
    "    max_bits = maximum bit rotations\n",
    "    \"\"\"\n",
    "    return (val << r_bits%max_bits) & (2**max_bits-1) | ((val & (2**max_bits-1)) >> (max_bits-(r_bits%max_bits)))\n",
    "\n",
    "def hashFunction(message, len_of_block, key, iv, hmac_outer = False):\n",
    "    \"\"\"\n",
    "    message : plaintext (string if not for outer hash in hmac, block array for outer hash in hmac)\n",
    "    len_of_block: n bytes of block length\n",
    "    key : key for XOR with Initial Value\n",
    "    IV: Initial Value for XOR with key\n",
    "    \"\"\"\n",
    "    blockList = message\n",
    "    if hmac_outer == False:\n",
    "        blockList = breakMessage(message, len_of_block)\n",
    "        blockList = [int.from_bytes(i, byteorder = 'big') for i in blockList]\n",
    "    \n",
    "    # Start of Rotated XOR\n",
    "    block = iv^key\n",
    "    for m in blockList:\n",
    "        \n",
    "        temp = bitwise_rotate_left(block, 1, (8*(len_of_block)))\n",
    "        block = m ^ temp \n",
    "    \n",
    "    return block\n",
    "\n",
    "def HMAC(message, key, len_of_block, iv):\n",
    "    \"\"\"\n",
    "    message : plaintext (string if not for outer hash in hmac, block array for outer hash in hmac)\n",
    "    len_of_block: n bytes of block length\n",
    "    key : key for operation with outer and inner padding in hash function\n",
    "    IV: Initial Value for XOR with key in hash function\n",
    "    \"\"\"\n",
    "    key = int.from_bytes(key, byteorder = 'big')\n",
    "    iv = int.from_bytes(iv, byteorder = 'big')\n",
    "\n",
    "        \n",
    "    o_key_pad = key ^ 0x5C\n",
    "    i_key_pad = key ^ 0x36\n",
    "\n",
    "    inner_hash = hashFunction(message, len_of_block, i_key_pad, iv) \n",
    "    print(\"inner_hash:\",(inner_hash))\n",
    "    inner_hash = [inner_hash]\n",
    "    hmac_output = hashFunction(inner_hash, len_of_block, o_key_pad, iv, hmac_outer = True)\n",
    "\n",
    "    return hmac_output\n",
    "\n",
    "# This function is explicitly used to compare the two data to acquire the same values\n",
    "def HMAC_Compare(message, key, len_of_block, iv):\n",
    "    \"\"\"\n",
    "    message : plaintext (string if not for outer hash in hmac, block array for outer hash in hmac)\n",
    "    len_of_block: n bytes of block length\n",
    "    key : key for operation with outer and inner padding in hash function\n",
    "    IV: Initial Value for XOR with key in hash function\n",
    "    \"\"\"\n",
    "    key = int.from_bytes(key, byteorder = 'big')\n",
    "    iv = int.from_bytes(iv, byteorder = 'big')\n",
    "\n",
    "        \n",
    "    o_key_pad = key ^ 0x5C\n",
    "    i_key_pad = key ^ 0x36\n",
    "\n",
    "    inner_hash = hashFunction(message, len_of_block, i_key_pad, iv, hmac_outer = True) # NOTE for testing, make the hmac_outer = True\n",
    "    print(\"inner_hash:\",bin(inner_hash))\n",
    "    inner_hash = [inner_hash]\n",
    "    hmac_output = hashFunction(inner_hash, len_of_block, o_key_pad, iv, hmac_outer = True)\n",
    "\n",
    "    return hmac_output\n",
    "\n",
    "\n"
   ]
  },
  {
   "cell_type": "markdown",
   "metadata": {},
   "source": [
    "## Demo"
   ]
  },
  {
   "cell_type": "code",
   "execution_count": 14,
   "metadata": {},
   "outputs": [
    {
     "name": "stdout",
     "output_type": "stream",
     "text": [
      "bytearray(b'v\\x85') bytearray(b'\\xd8\\xd2')\n"
     ]
    }
   ],
   "source": [
    "# Initialization\n",
    "text = \"Hello\"\n",
    "len_of_block_hash = 2\n",
    "\n",
    "# Generate key and IV\n",
    "key = initialGenKey(len_of_block_hash)\n",
    "iv = initialGenKey(len_of_block_hash)\n",
    "print(key, iv)"
   ]
  },
  {
   "cell_type": "code",
   "execution_count": 15,
   "metadata": {},
   "outputs": [
    {
     "name": "stdout",
     "output_type": "stream",
     "text": [
      "inner_hash: 37303\n",
      "HMAC:  4245\n"
     ]
    }
   ],
   "source": [
    "# Using saved key and iv\n",
    "key = bytearray(b'\\x8f\\xf7') \n",
    "iv = bytearray(b'\\xcf:')\n",
    "\n",
    "HMAC_VALUE = HMAC(text, key, len_of_block_hash, iv)\n",
    "print(\"HMAC: \", HMAC_VALUE)"
   ]
  },
  {
   "cell_type": "markdown",
   "metadata": {},
   "source": [
    "The HMAC Value is shown as an integer representation, but it can be shown into a binary representation"
   ]
  },
  {
   "cell_type": "markdown",
   "metadata": {},
   "source": [
    "## Finding Same Value for Hash and HMAC"
   ]
  },
  {
   "cell_type": "markdown",
   "metadata": {},
   "source": [
    "### Hash"
   ]
  },
  {
   "cell_type": "code",
   "execution_count": 16,
   "metadata": {},
   "outputs": [
    {
     "data": {
      "text/plain": [
       "'0b110100'"
      ]
     },
     "execution_count": 16,
     "metadata": {},
     "output_type": "execute_result"
    }
   ],
   "source": [
    "bin(hashFunction([0b1, 0b1], \n",
    "                 1, \n",
    "                 int.from_bytes(key, byteorder = 'big'), \n",
    "                 int.from_bytes(iv, byteorder = 'big'), \n",
    "                 hmac_outer = True))"
   ]
  },
  {
   "cell_type": "code",
   "execution_count": 17,
   "metadata": {},
   "outputs": [
    {
     "data": {
      "text/plain": [
       "'0b110100'"
      ]
     },
     "execution_count": 17,
     "metadata": {},
     "output_type": "execute_result"
    }
   ],
   "source": [
    "bin(hashFunction([0b1, 0b1, 0b0, 0b0, 0b0, 0b0, 0b0, 0b0, 0b0, 0b0], \n",
    "                 1, \n",
    "                 int.from_bytes(key, byteorder = 'big'), \n",
    "                 int.from_bytes(iv, byteorder = 'big'), \n",
    "                 hmac_outer = True))"
   ]
  },
  {
   "cell_type": "markdown",
   "metadata": {},
   "source": [
    "### HMAC"
   ]
  },
  {
   "cell_type": "code",
   "execution_count": 18,
   "metadata": {},
   "outputs": [
    {
     "name": "stdout",
     "output_type": "stream",
     "text": [
      "inner_hash: 0b111110111011\n"
     ]
    },
    {
     "data": {
      "text/plain": [
       "'0b1000111010011001'"
      ]
     },
     "execution_count": 18,
     "metadata": {},
     "output_type": "execute_result"
    }
   ],
   "source": [
    "data1 = [0b1, 0b1, 0b1, 0b1, 0b0, 0b0, 0b0, 0b0, 0b0, 0b0, 0b0, 0b0, 0b0, 0b0, 0b0, 0b0, 0b0, 0b0, 0b0, 0b0]\n",
    "data2 = [0b1,0b1, 0b1, 0b1]\n",
    "bin(HMAC_Compare(data1, key, len_of_block_hash, iv))\n"
   ]
  },
  {
   "cell_type": "code",
   "execution_count": 19,
   "metadata": {},
   "outputs": [
    {
     "name": "stdout",
     "output_type": "stream",
     "text": [
      "inner_hash: 0b111110111011\n"
     ]
    },
    {
     "data": {
      "text/plain": [
       "'0b1000111010011001'"
      ]
     },
     "execution_count": 19,
     "metadata": {},
     "output_type": "execute_result"
    }
   ],
   "source": [
    "bin(HMAC_Compare(data2, key, len_of_block_hash, iv))"
   ]
  }
 ],
 "metadata": {
  "kernelspec": {
   "display_name": "Python 3 (ipykernel)",
   "language": "python",
   "name": "python3"
  },
  "language_info": {
   "codemirror_mode": {
    "name": "ipython",
    "version": 3
   },
   "file_extension": ".py",
   "mimetype": "text/x-python",
   "name": "python",
   "nbconvert_exporter": "python",
   "pygments_lexer": "ipython3",
   "version": "3.10.13"
  }
 },
 "nbformat": 4,
 "nbformat_minor": 4
}
